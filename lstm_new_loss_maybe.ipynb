{
 "cells": [
  {
   "cell_type": "code",
   "execution_count": 1,
   "id": "2ea47535",
   "metadata": {},
   "outputs": [
    {
     "name": "stdout",
     "output_type": "stream",
     "text": [
      "[6.67019254e-317 9.31688261e-312 1.99455100e-312 0.00000000e+000\n",
      " 1.69484279e-319 1.99455100e-312 0.00000000e+000 9.31676919e-312\n",
      " 0.00000000e+000 0.00000000e+000 0.00000000e+000 9.31689158e-312\n",
      " 2.96439388e-323 6.95237638e-310 2.02369289e-320 2.96439388e-323\n",
      " 6.95237639e-310 9.88131292e-324 0.00000000e+000 0.00000000e+000\n",
      " 8.49951012e-319 0.00000000e+000             nan 0.00000000e+000\n",
      " 4.67296746e-307 1.69121096e-306 8.90098127e-307 1.15710699e-306\n",
      " 7.56599807e-307 8.90104239e-307 9.34593493e-307 6.23059726e-307\n",
      " 1.42410839e-306 1.60220393e-306 1.24610383e-306 1.69118108e-306\n",
      " 8.06632139e-308 1.20160711e-306 1.69119330e-306 1.11260416e-306\n",
      " 1.69118108e-306 1.11261570e-306 6.89804132e-307 1.37962320e-306\n",
      " 8.34447260e-308 1.39071445e-307 1.33511562e-306 8.90103560e-307\n",
      " 1.42410974e-306 3.23796840e-317] [1.]\n",
      "(50,)\n",
      "(1,)\n",
      "data/AAPL_2006-01-01_to_2018-01-01.csv\n",
      "3019\n",
      "[[6.67019254e-317 9.31688261e-312 1.99455100e-312 ... 8.90103560e-307\n",
      "  1.42410974e-306 3.23796840e-317]\n",
      " [2.47573342e-003 2.48268773e-003 2.46414291e-003 ... 2.17438010e-003\n",
      "  2.23001456e-003 2.19292492e-003]\n",
      " [2.48268773e-003 2.46414291e-003 2.52673168e-003 ... 2.23001456e-003\n",
      "  2.19292492e-003 2.13033616e-003]\n",
      " ...\n",
      " [3.63918905e-002 3.70618221e-002 3.71985901e-002 ... 4.04161163e-002\n",
      "  4.05691111e-002 4.05691111e-002]\n",
      " [3.70618221e-002 3.71985901e-002 3.70340048e-002 ... 4.05691111e-002\n",
      "  4.05691111e-002 3.95398736e-002]\n",
      " [3.71985901e-002 3.70340048e-002 3.61577621e-002 ... 4.05691111e-002\n",
      "  3.95398736e-002 3.95468279e-002]] [[1.]\n",
      " [0.]\n",
      " [1.]\n",
      " ...\n",
      " [0.]\n",
      " [1.]\n",
      " [1.]]\n",
      "(2969, 50)\n",
      "(2969, 1)\n",
      "data/BA_2006-01-01_to_2018-01-01.csv\n",
      "3020\n",
      "[[6.67019254e-317 9.31688261e-312 1.99455100e-312 ... 8.90103560e-307\n",
      "  1.42410974e-306 3.23796840e-317]\n",
      " [2.47573342e-003 2.48268773e-003 2.46414291e-003 ... 2.17438010e-003\n",
      "  2.23001456e-003 2.19292492e-003]\n",
      " [2.48268773e-003 2.46414291e-003 2.52673168e-003 ... 2.23001456e-003\n",
      "  2.19292492e-003 2.13033616e-003]\n",
      " ...\n",
      " [4.23373699e-002 4.21766198e-002 4.19931373e-002 ... 4.83711839e-002\n",
      "  4.79051709e-002 4.79165370e-002]\n",
      " [4.21766198e-002 4.19931373e-002 4.22237082e-002 ... 4.79051709e-002\n",
      "  4.79165370e-002 4.79587542e-002]\n",
      " [4.19931373e-002 4.22237082e-002 4.20613343e-002 ... 4.79165370e-002\n",
      "  4.79587542e-002 4.80009715e-002]] [[1.]\n",
      " [0.]\n",
      " [1.]\n",
      " ...\n",
      " [1.]\n",
      " [1.]\n",
      " [1.]]\n",
      "(5938, 50)\n",
      "(5938, 1)\n",
      "data/CAT_2006-01-01_to_2018-01-01.csv\n",
      "3020\n",
      "[[6.67019254e-317 9.31688261e-312 1.99455100e-312 ... 8.90103560e-307\n",
      "  1.42410974e-306 3.23796840e-317]\n",
      " [2.47573342e-003 2.48268773e-003 2.46414291e-003 ... 2.17438010e-003\n",
      "  2.23001456e-003 2.19292492e-003]\n",
      " [2.48268773e-003 2.46414291e-003 2.52673168e-003 ... 2.23001456e-003\n",
      "  2.19292492e-003 2.13033616e-003]\n",
      " ...\n",
      " [2.86015199e-002 2.87678206e-002 2.85643211e-002 ... 3.33739104e-002\n",
      "  3.38378016e-002 3.40806880e-002]\n",
      " [2.87678206e-002 2.85643211e-002 2.87284336e-002 ... 3.38378016e-002\n",
      "  3.40806880e-002 3.42316715e-002]\n",
      " [2.85643211e-002 2.87284336e-002 2.87853259e-002 ... 3.40806880e-002\n",
      "  3.42316715e-002 3.44679934e-002]] [[1.]\n",
      " [0.]\n",
      " [1.]\n",
      " ...\n",
      " [1.]\n",
      " [1.]\n",
      " [1.]]\n",
      "(8907, 50)\n",
      "(8907, 1)\n",
      "data/CVX_2006-01-01_to_2018-01-01.csv\n",
      "3020\n",
      "[[6.67019254e-317 9.31688261e-312 1.99455100e-312 ... 8.90103560e-307\n",
      "  1.42410974e-306 3.23796840e-317]\n",
      " [2.47573342e-003 2.48268773e-003 2.46414291e-003 ... 2.17438010e-003\n",
      "  2.23001456e-003 2.19292492e-003]\n",
      " [2.48268773e-003 2.46414291e-003 2.52673168e-003 ... 2.23001456e-003\n",
      "  2.19292492e-003 2.13033616e-003]\n",
      " ...\n",
      " [2.24470004e-002 2.26297261e-002 2.26466800e-002 ... 2.27728926e-002\n",
      "  2.35132141e-002 2.35433544e-002]\n",
      " [2.26297261e-002 2.26466800e-002 2.22567397e-002 ... 2.35132141e-002\n",
      "  2.35433544e-002 2.37317314e-002]\n",
      " [2.26466800e-002 2.22567397e-002 2.22661585e-002 ... 2.35433544e-002\n",
      "  2.37317314e-002 2.36507293e-002]] [[1.]\n",
      " [0.]\n",
      " [1.]\n",
      " ...\n",
      " [1.]\n",
      " [0.]\n",
      " [1.]]\n",
      "(11876, 50)\n",
      "(11876, 1)\n",
      "data/CSCO_2006-01-01_to_2018-01-01.csv\n",
      "3019\n",
      "[[6.67019254e-317 9.31688261e-312 1.99455100e-312 ... 8.90103560e-307\n",
      "  1.42410974e-306 3.23796840e-317]\n",
      " [2.47573342e-003 2.48268773e-003 2.46414291e-003 ... 2.17438010e-003\n",
      "  2.23001456e-003 2.19292492e-003]\n",
      " [2.48268773e-003 2.46414291e-003 2.52673168e-003 ... 2.23001456e-003\n",
      "  2.19292492e-003 2.13033616e-003]\n",
      " ...\n",
      " [2.48015988e-002 2.48534695e-002 2.48979301e-002 ... 2.87067205e-002\n",
      "  2.85511085e-002 2.85659287e-002]\n",
      " [2.48534695e-002 2.48979301e-002 2.48608796e-002 ... 2.85511085e-002\n",
      "  2.85659287e-002 2.85140580e-002]\n",
      " [2.48979301e-002 2.48608796e-002 2.50090815e-002 ... 2.85659287e-002\n",
      "  2.85140580e-002 2.85733388e-002]] [[1.]\n",
      " [0.]\n",
      " [1.]\n",
      " ...\n",
      " [0.]\n",
      " [1.]\n",
      " [1.]]\n",
      "(14844, 50)\n",
      "(14844, 1)\n",
      "data/IBM_2006-01-01_to_2018-01-01.csv\n",
      "3020\n",
      "[[6.67019254e-317 9.31688261e-312 1.99455100e-312 ... 8.90103560e-307\n",
      "  1.42410974e-306 3.23796840e-317]\n",
      " [2.47573342e-003 2.48268773e-003 2.46414291e-003 ... 2.17438010e-003\n",
      "  2.23001456e-003 2.19292492e-003]\n",
      " [2.48268773e-003 2.46414291e-003 2.52673168e-003 ... 2.23001456e-003\n",
      "  2.19292492e-003 2.13033616e-003]\n",
      " ...\n",
      " [1.78006582e-002 1.77679854e-002 1.77328923e-002 ... 1.85085702e-002\n",
      "  1.83331048e-002 1.84541154e-002]\n",
      " [1.77679854e-002 1.77328923e-002 1.93048199e-002 ... 1.83331048e-002\n",
      "  1.84541154e-002 1.84940489e-002]\n",
      " [1.77328923e-002 1.93048199e-002 1.94706044e-002 ... 1.84541154e-002\n",
      "  1.84940489e-002 1.85303521e-002]] [[1.]\n",
      " [0.]\n",
      " [1.]\n",
      " ...\n",
      " [1.]\n",
      " [1.]\n",
      " [1.]]\n",
      "(17813, 50)\n",
      "(17813, 1)\n"
     ]
    }
   ],
   "source": [
    "import torch\n",
    "import torch.nn as nn\n",
    "import torch.nn.functional as F\n",
    "from torch.utils.data import Dataset, DataLoader\n",
    "import matplotlib.pyplot as plt\n",
    "from torch.autograd import Variable\n",
    "from sklearn.preprocessing import normalize\n",
    "from sklearn.metrics import mean_squared_error\n",
    "\n",
    "\n",
    "\n",
    "import numpy as np\n",
    "import pandas as pd\n",
    "\n",
    "import datetime\n",
    "\n",
    "start = datetime.datetime(2006, 1, 1)\n",
    "end = datetime.datetime(2018, 1, 1)\n",
    "start_date_str = str(start.date())\n",
    "end_date_str = str(end.date())\n",
    "\n",
    "\n",
    "sliding_window_size = 50\n",
    "\n",
    "\"\"\"\n",
    "stocks = ['MMM', 'AXP', 'AAPL', 'BA', 'CAT', 'CVX', 'CSCO', 'KO', 'DIS', 'XOM', 'GE',\n",
    "          'GS', 'HD', 'IBM', 'INTC', 'JNJ', 'JPM', 'MCD', 'MRK', 'MSFT', 'NKE', 'PFE',\n",
    "          'PG', 'TRV', 'UTX', 'UNH', 'VZ', 'WMT', 'GOOGL', 'AMZN', 'AABA']\n",
    "\n",
    "for ticker in stocks:\n",
    "    file_name = 'data/' + ticker + '_' + start_date_str + '_to_' + end_date_str + '.csv'\n",
    "    print(file_name)\n",
    "    frame = pd.read_csv(file_name)\n",
    "    print(frame)\n",
    "\"\"\"\n",
    "stocks = ['AAPL', 'BA', 'CAT', 'CVX', 'CSCO', 'IBM']#, 'GOOGL', 'AMZN', 'AABA']\n",
    "\n",
    "#stock = 'GOOGL'\n",
    "frames = []\n",
    "data_x = np.empty([sliding_window_size])\n",
    "data_y = np.empty([1])\n",
    "print(data_x, data_y)\n",
    "\n",
    "print(data_x.shape)\n",
    "print(data_y.shape)\n",
    "\n",
    "\n",
    "for stock in stocks:\n",
    "    file_name = 'data/' + stock + '_' + start_date_str + '_to_' + end_date_str + '.csv'\n",
    "    print(file_name)\n",
    "    frame = pd.read_csv(file_name)\n",
    "    \n",
    "    frame = frame['Close']\n",
    "    \n",
    "    frame =(frame.values).reshape(-1,1)\n",
    "    data = (normalize(frame, axis=0)).squeeze()\n",
    "    print(data.size)\n",
    "    \n",
    "    \n",
    "    for i in range(data.size - sliding_window_size - 1):\n",
    "        data_sample_x = data[i:i+sliding_window_size]\n",
    "\n",
    "        #EITHER EXACT PRICE OR INCREASE/DECREASE FORMAT\n",
    "        #data_sample_y = data[i+sliding_window_size]\n",
    "        data_sample_y = 1 if data[i+sliding_window_size] > data[i+sliding_window_size - 1] else 0\n",
    "        data_x = np.vstack([data_x , data_sample_x])\n",
    "        data_y = np.vstack([data_y , data_sample_y])\n",
    "\n",
    "    print(data_x.shape)\n",
    "    print(data_y.shape)\n",
    "data_x = data_x[1:]\n",
    "data_y = data_y[1:]\n",
    "\n",
    "\n",
    "\n",
    "\n",
    "\n",
    "\n"
   ]
  },
  {
   "cell_type": "code",
   "execution_count": 2,
   "id": "8fa339ee",
   "metadata": {},
   "outputs": [],
   "source": [
    "data_x_train = data_x[:10000]\n",
    "data_y_train = data_y[:10000]\n",
    "\n",
    "data_x_test = data_x[10000:]\n",
    "data_y_test = data_y[10000:]"
   ]
  },
  {
   "cell_type": "code",
   "execution_count": 3,
   "id": "728feb50",
   "metadata": {},
   "outputs": [],
   "source": [
    "import torch #pytorch\n",
    "import torch.nn as nn\n",
    "from torch.autograd import Variable"
   ]
  },
  {
   "cell_type": "code",
   "execution_count": 4,
   "id": "64dc3a39",
   "metadata": {},
   "outputs": [
    {
     "name": "stdout",
     "output_type": "stream",
     "text": [
      "torch.Size([10000, 50])\n",
      "torch.Size([10000, 1])\n",
      "torch.Size([7812, 50])\n",
      "torch.Size([7812, 1])\n"
     ]
    }
   ],
   "source": [
    "X_train_tensors = Variable(torch.Tensor(data_x_train))\n",
    "X_test_tensors = Variable(torch.Tensor(data_x_test))\n",
    "\n",
    "y_train_tensors = Variable(torch.Tensor(data_y_train))\n",
    "y_test_tensors = Variable(torch.Tensor(data_y_test)) \n",
    "\n",
    "\n",
    "print(X_train_tensors.shape)\n",
    "print(y_train_tensors.shape)\n",
    "print(X_test_tensors.shape)\n",
    "print(y_test_tensors.shape)"
   ]
  },
  {
   "cell_type": "code",
   "execution_count": 5,
   "id": "a0c33bd8",
   "metadata": {},
   "outputs": [
    {
     "name": "stdout",
     "output_type": "stream",
     "text": [
      "tensor([[0.0025, 0.0025, 0.0025,  ..., 0.0022, 0.0022, 0.0022],\n",
      "        [0.0025, 0.0025, 0.0025,  ..., 0.0022, 0.0022, 0.0021],\n",
      "        [0.0025, 0.0025, 0.0025,  ..., 0.0022, 0.0021, 0.0021],\n",
      "        ...,\n",
      "        [0.0151, 0.0145, 0.0145,  ..., 0.0138, 0.0138, 0.0138],\n",
      "        [0.0145, 0.0145, 0.0150,  ..., 0.0138, 0.0138, 0.0135],\n",
      "        [0.0145, 0.0150, 0.0150,  ..., 0.0138, 0.0135, 0.0136]])\n"
     ]
    }
   ],
   "source": [
    "print(X_train_tensors)"
   ]
  },
  {
   "cell_type": "code",
   "execution_count": 6,
   "id": "5cfd2f6b",
   "metadata": {},
   "outputs": [],
   "source": [
    "#reshaping to rows, timestamps, features\n",
    "\n",
    "X_train_tensors_final = torch.reshape(X_train_tensors,   (X_train_tensors.shape[0], 1, X_train_tensors.shape[1]))\n",
    "\n",
    "\n",
    "X_test_tensors_final = torch.reshape(X_test_tensors,  (X_test_tensors.shape[0], 1, X_test_tensors.shape[1])) "
   ]
  },
  {
   "cell_type": "code",
   "execution_count": 7,
   "id": "2a3527ed",
   "metadata": {},
   "outputs": [
    {
     "name": "stdout",
     "output_type": "stream",
     "text": [
      "Training Shape torch.Size([10000, 1, 50]) torch.Size([10000, 1])\n",
      "Testing Shape torch.Size([7812, 1, 50]) torch.Size([7812, 1])\n",
      "tensor([[0.],\n",
      "        [1.],\n",
      "        [0.],\n",
      "        ...,\n",
      "        [0.],\n",
      "        [1.],\n",
      "        [1.]])\n"
     ]
    }
   ],
   "source": [
    "print(\"Training Shape\", X_train_tensors_final.shape, y_train_tensors.shape)\n",
    "print(\"Testing Shape\", X_test_tensors_final.shape, y_test_tensors.shape) \n",
    "print(y_train_tensors)"
   ]
  },
  {
   "cell_type": "code",
   "execution_count": 8,
   "id": "a3528a8a",
   "metadata": {},
   "outputs": [],
   "source": [
    "class LSTM1(nn.Module):\n",
    "    def __init__(self, num_classes, input_size, hidden_size, num_layers, seq_length):\n",
    "        super(LSTM1, self).__init__()\n",
    "        self.num_classes = num_classes\n",
    "        self.num_layers = num_layers \n",
    "        self.input_size = input_size \n",
    "        self.hidden_size = hidden_size\n",
    "        self.seq_length = seq_length #sequence length\n",
    "\n",
    "        self.lstm = nn.LSTM(input_size=input_size, hidden_size=hidden_size,\n",
    "                          num_layers=num_layers, batch_first=True) #lstm\n",
    "        self.fc_1 =  nn.Linear(hidden_size, 128) #fully connected 1\n",
    "        self.fc_2 =  nn.Linear(128, 64) #fully connected 2\n",
    "        self.fc = nn.Linear(128, num_classes) #fully connected last layer\n",
    "\n",
    "        self.relu = nn.ReLU()\n",
    "    \n",
    "    def forward(self,x):\n",
    "        h_0 = Variable(torch.zeros(self.num_layers, x.size(0), self.hidden_size)) #hidden state\n",
    "        c_0 = Variable(torch.zeros(self.num_layers, x.size(0), self.hidden_size)) #internal state\n",
    "        # Propagate input through LSTM\n",
    "        output, (hn, cn) = self.lstm(x, (h_0, c_0)) #lstm with input, hidden, and internal state\n",
    "        #print(hn.shape)\n",
    "        #is layers > 1, get only last element\n",
    "        hn = hn[-1]\n",
    "        #print(hn.shape)\n",
    "        hn = hn.view(-1, self.hidden_size) #reshaping the data for Dense layer next\n",
    "        #print(hn.shape)\n",
    "        out = self.relu(hn)\n",
    "        out = self.fc_1(out) #first Dense\n",
    "        out = self.relu(out) #relu\n",
    "        #out = self.fc_2(out) #2nd Dense\n",
    "        #out = self.relu(out) #relu\n",
    "        out = self.fc(out) #Final Output\n",
    "        return out"
   ]
  },
  {
   "cell_type": "code",
   "execution_count": 9,
   "id": "cdac52d1",
   "metadata": {},
   "outputs": [
    {
     "name": "stdout",
     "output_type": "stream",
     "text": [
      "Epoch: 0, loss: 0.67334\n",
      "Epoch: 100, loss: 0.24967\n",
      "Epoch: 200, loss: 0.24964\n",
      "Epoch: 300, loss: 0.24964\n",
      "Epoch: 400, loss: 0.24964\n",
      "Epoch: 500, loss: 0.24964\n",
      "Epoch: 600, loss: 0.24964\n",
      "Epoch: 700, loss: 0.24964\n",
      "Epoch: 800, loss: 0.24964\n",
      "Epoch: 900, loss: 0.24964\n"
     ]
    }
   ],
   "source": [
    "num_epochs = 1000 \n",
    "learning_rate = 0.001 #0.001 lr\n",
    "\n",
    "input_size = 50 #number of features\n",
    "hidden_size = 10 #number of features in hidden state\n",
    "num_layers = 1 #number of stacked lstm layers\n",
    "\n",
    "num_classes = 1 #number of output classes \n",
    "\n",
    "lstm1 = LSTM1(num_classes, input_size, hidden_size, num_layers, X_train_tensors_final.shape[1])\n",
    "\n",
    "criterion = torch.nn.MSELoss()\n",
    "optimizer = torch.optim.Adam(lstm1.parameters(), lr=learning_rate) \n",
    "\n",
    "\n",
    "for epoch in range(num_epochs):\n",
    "    outputs = lstm1.forward(X_train_tensors_final) #forward pass\n",
    "    optimizer.zero_grad()\n",
    " \n",
    "    loss = criterion(outputs, y_train_tensors)\n",
    " \n",
    "    loss.backward() #calculates the loss of the loss function\n",
    " \n",
    "    optimizer.step()\n",
    "    if epoch % 100 == 0:\n",
    "        print(\"Epoch: %d, loss: %1.5f\" % (epoch, loss)) \n",
    "\n",
    "\n",
    "\n",
    "\n"
   ]
  },
  {
   "cell_type": "code",
   "execution_count": 10,
   "id": "025fd560",
   "metadata": {},
   "outputs": [
    {
     "name": "stdout",
     "output_type": "stream",
     "text": [
      "torch.Size([7812, 1, 50]) torch.Size([7812, 1])\n",
      "tensor([0.5092])\n",
      "loss: 0.49078\n",
      "torch.Size([7812, 1]) torch.Size([7812, 1])\n"
     ]
    }
   ],
   "source": [
    "#testing\n",
    "\n",
    "\n",
    "with torch.no_grad():\n",
    "    print(X_test_tensors_final.shape, y_test_tensors.shape)\n",
    "    output = torch.round(lstm1.forward(X_test_tensors_final))\n",
    "    acc = torch.eq(output, y_test_tensors)\n",
    "    print(sum(acc)/ y_test_tensors.shape[0])\n",
    "    print(\"loss: %1.5f\" % (criterion(output, y_test_tensors)))\n",
    "    print(output.shape, y_test_tensors.shape)\n"
   ]
  },
  {
   "cell_type": "code",
   "execution_count": 16,
   "id": "12bcc238",
   "metadata": {},
   "outputs": [
    {
     "data": {
      "image/png": "[encoded data removed]",
      "text/plain": [
       "<Figure size 432x288 with 1 Axes>"
      ]
     },
     "metadata": {},
     "output_type": "display_data"
    }
   ],
   "source": [
    "plt.plot(output, label='prediction')\n",
    "plt.plot(y_test_tensors, label='real')\n",
    "plt.legend()\n",
    "plt.show()"
   ]
  },
  {
   "cell_type": "code",
   "execution_count": 47,
   "id": "714a5964",
   "metadata": {},
   "outputs": [
    {
     "data": {
      "text/plain": [
       "'\\nX_new = X_test_tensors_final[0:1]\\ny_test_tensors\\nprint(X_new.shape, X_test_tensors_final.shape, y_test_tensors.shape)\\noutput = []\\nwith torch.no_grad():\\n    for i in range(100):\\n        \\n        out = lstm1.forward(X_new)\\n        output.append(out)\\n        \\n        X_new = X_new[:, :, 1:50]\\n\\n        X_new = torch.cat((X_new, out.unsqueeze(1)), dim=2)\\n\\n    \\n'"
      ]
     },
     "execution_count": 47,
     "metadata": {},
     "output_type": "execute_result"
    }
   ],
   "source": [
    "#generative mode\n",
    "\"\"\"\n",
    "X_new = X_test_tensors_final[0:1]\n",
    "y_test_tensors\n",
    "print(X_new.shape, X_test_tensors_final.shape, y_test_tensors.shape)\n",
    "output = []\n",
    "with torch.no_grad():\n",
    "    for i in range(100):\n",
    "        \n",
    "        out = lstm1.forward(X_new)\n",
    "        output.append(out)\n",
    "        \n",
    "        X_new = X_new[:, :, 1:50]\n",
    "\n",
    "        X_new = torch.cat((X_new, out.unsqueeze(1)), dim=2)\n",
    "\n",
    "    \n",
    "\"\"\""
   ]
  },
  {
   "cell_type": "code",
   "execution_count": null,
   "id": "013f9af9",
   "metadata": {},
   "outputs": [],
   "source": [
    "# ADD measurment of profit, like if price n > price n-1 and model predicts that then good\n",
    "\n",
    "#OR EVEN BETTER   calculate % change and if its + or -      FOR BOTH BUY AND SHORT"
   ]
  },
  {
   "cell_type": "code",
   "execution_count": 39,
   "id": "a3b03006",
   "metadata": {},
   "outputs": [
    {
     "name": "stdout",
     "output_type": "stream",
     "text": [
      "1042 1053 torch.Size([2124, 1])\n"
     ]
    }
   ],
   "source": [
    "good = 0\n",
    "bad = 0\n",
    "last_pred = 0\n",
    "last_true = 0\n",
    "for pred_y, real_y in zip(output, y_test_tensors):\n",
    "    if pred_y > last_pred and real_y > last_true:\n",
    "        good+=1\n",
    "    elif pred_y > last_pred and real_y < last_true:\n",
    "        bad+=1\n",
    "    elif pred_y < last_pred and real_y < last_true:\n",
    "        good+=1\n",
    "    elif pred_y < last_pred and real_y > last_true:\n",
    "        bad+=1\n",
    "    last_pred = pred_y\n",
    "    last_true = real_y\n",
    "print(good, bad, output.shape)"
   ]
  },
  {
   "cell_type": "code",
   "execution_count": null,
   "id": "1ca03ee9",
   "metadata": {},
   "outputs": [],
   "source": []
  }
 ],
 "metadata": {
  "kernelspec": {
   "display_name": "Python 3 (Spyder)",
   "language": "python3",
   "name": "python3"
  },
  "language_info": {
   "codemirror_mode": {
    "name": "ipython",
    "version": 3
   },
   "file_extension": ".py",
   "mimetype": "text/x-python",
   "name": "python",
   "nbconvert_exporter": "python",
   "pygments_lexer": "ipython3",
   "version": "3.9.12"
  }
 },
 "nbformat": 4,
 "nbformat_minor": 5
}
